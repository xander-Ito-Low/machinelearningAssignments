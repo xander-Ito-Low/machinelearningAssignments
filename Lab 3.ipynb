{
 "cells": [
  {
   "cell_type": "code",
   "execution_count": 1,
   "metadata": {},
   "outputs": [],
   "source": [
    "#Import statements \n",
    "import numpy as np"
   ]
  },
  {
   "cell_type": "code",
   "execution_count": 2,
   "metadata": {},
   "outputs": [],
   "source": [
    "#the parameters for the algorithm\n",
    "seq = ['G','G','C','A','C','T','G','A','A']\n",
    "states = ('H', 'L')\n",
    "pi = {'H': -1, 'L': -1}\n",
    "T = {\n",
    "   'H' : {'H': -1, 'L': -1},\n",
    "    'L' : {'L': -0.737, 'H': -1.322}\n",
    "   }\n",
    "E = {\n",
    "   'H' : {'A': -2.322 , 'C': -1.737 , 'G': -1.737 ,'T': -2.322},\n",
    "    'L' : {'A': -1.737 , 'C': -2.322 , 'G': -2.322 ,'T': -1.737}\n",
    "   }"
   ]
  },
  {
   "cell_type": "code",
   "execution_count": 3,
   "metadata": {},
   "outputs": [],
   "source": [
    "def Viterbi (seq,states,pi,T,E):\n",
    "    possiblePaths = [{}]\n",
    "    \n",
    "    #first state get the expected value of going to first observation\n",
    "    for st in states:\n",
    "        possiblePaths [0][st] = {\"prob\":pi[st]+E[st][seq[0]],\"prev\":None}\n",
    "    \n",
    "    for i in range (1,len(seq)):\n",
    "        possiblePaths.append({})\n",
    "        for st in states:\n",
    "            #calculate prev state and transition: e.g Pstate + PH->state\n",
    "            possibleProb = possiblePaths[i-1][states[0]][\"prob\"] + T[states[0]][st]\n",
    "            prev_st_selected = states[0]\n",
    "            for prev_st in states[1:]:\n",
    "                #calculate the other one: e.g Pstate + PL->state\n",
    "                possibleProb2 = possiblePaths[i-1][prev_st][\"prob\"] + T[prev_st][st]\n",
    "                if possibleProb2>possibleProb:\n",
    "                    possibleProb = possibleProb2\n",
    "                    prev_st_selected = prev_st\n",
    "            \n",
    "            #found the max now add expected value to observation and append\n",
    "            max_prob = possibleProb + E[st][seq[i]]\n",
    "            possiblePaths[i][st] = {\"prob\": max_prob, \"prev\":prev_st_selected}\n",
    "    \n",
    "    #print a table of possible paths\n",
    "    for line in dptable(possiblePaths,seq):\n",
    "        print (line)\n",
    "    print()\n",
    "    \n",
    "    #backtracking:\n",
    "    \n",
    "    path = []\n",
    "    max_prob = None\n",
    "    previous = None\n",
    "    \n",
    "    for st,data in possiblePaths[-1].items():\n",
    "        if max_prob is None or data[\"prob\"]>max_prob:\n",
    "            max_prob = data[\"prob\"]\n",
    "            bestState = st\n",
    "    path.append(bestState)\n",
    "    previous = bestState\n",
    "    \n",
    "    for i in range(len(possiblePaths) - 2, -1, -1):\n",
    "        path.insert(0, possiblePaths[i + 1][previous][\"prev\"])\n",
    "        previous = possiblePaths[i + 1][previous][\"prev\"]\n",
    "    \n",
    "    print ('The most likely states are ' + ' '.join(path) + ' with highest probability of %s' % max_prob)   \n",
    "    \n",
    "#function that prints a table of probabilities \n",
    "def dptable(V,seq):\n",
    "    # Print a table of steps from dictionary\n",
    "    yield \" \".join((\"%7s\" % i) for i in seq)\n",
    "    for state in V[0]:\n",
    "        yield \"%.7s: \" % state + \" \".join(\"%.7s\" % (\"%f\" % v[state][\"prob\"]) for v in V)\n",
    "        \n",
    "#References:\n",
    "\n",
    "#1 Anon, 2020. Viterbi algorithm. Wikipedia. \n",
    "#Available at: https://en.wikipedia.org/wiki/Viterbi_algorithm [Accessed April 02, 2020].\n",
    "\n",
    "#2 Cis.upenn.edu. 2020. [online] \n",
    "#Available at: https://www.cis.upenn.edu/~cis262/notes/Example-Viterbi-DNA.pdf [Accessed 02 April 2020]."
   ]
  },
  {
   "cell_type": "code",
   "execution_count": 4,
   "metadata": {},
   "outputs": [
    {
     "name": "stdout",
     "output_type": "stream",
     "text": [
      "      G       G       C       A       C       T       G       A       A\n",
      "H: -2.7370 -5.4740 -8.2110 -11.533 -14.007 -17.329 -19.540 -22.862 -25.658\n",
      "L: -3.3220 -6.0590 -8.7960 -10.948 -14.007 -16.481 -19.540 -22.014 -24.488\n",
      "\n",
      "The most likely states are H H H L L L L L L with highest probability of -24.487999999999992\n"
     ]
    }
   ],
   "source": [
    "Viterbi (seq,states,pi,T,E)"
   ]
  }
 ],
 "metadata": {
  "kernelspec": {
   "display_name": "Python 3",
   "language": "python",
   "name": "python3"
  },
  "language_info": {
   "codemirror_mode": {
    "name": "ipython",
    "version": 3
   },
   "file_extension": ".py",
   "mimetype": "text/x-python",
   "name": "python",
   "nbconvert_exporter": "python",
   "pygments_lexer": "ipython3",
   "version": "3.7.4"
  }
 },
 "nbformat": 4,
 "nbformat_minor": 2
}
