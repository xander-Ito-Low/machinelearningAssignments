{
 "cells": [
  {
   "cell_type": "code",
   "execution_count": 1,
   "metadata": {},
   "outputs": [],
   "source": [
    "import pandas as pd\n",
    "import matplotlib.pyplot as plt\n",
    "import numpy as np\n",
    "import seaborn as sns\n",
    "import math\n",
    "\n",
    "from sklearn.neighbors import KNeighborsClassifier \n",
    "from sklearn.metrics import classification_report, confusion_matrix\n",
    "from sklearn.model_selection import train_test_split\n",
    "from sklearn.preprocessing import StandardScaler\n",
    "from sklearn import preprocessing \n",
    "from sklearn.naive_bayes import GaussianNB\n",
    "from sklearn import metrics "
   ]
  },
  {
   "cell_type": "code",
   "execution_count": 2,
   "metadata": {
    "scrolled": true
   },
   "outputs": [
    {
     "data": {
      "text/html": [
       "<div>\n",
       "<style scoped>\n",
       "    .dataframe tbody tr th:only-of-type {\n",
       "        vertical-align: middle;\n",
       "    }\n",
       "\n",
       "    .dataframe tbody tr th {\n",
       "        vertical-align: top;\n",
       "    }\n",
       "\n",
       "    .dataframe thead th {\n",
       "        text-align: right;\n",
       "    }\n",
       "</style>\n",
       "<table border=\"1\" class=\"dataframe\">\n",
       "  <thead>\n",
       "    <tr style=\"text-align: right;\">\n",
       "      <th></th>\n",
       "      <th>fruit_label</th>\n",
       "      <th>fruit_name</th>\n",
       "      <th>fruit_subtype</th>\n",
       "      <th>mass</th>\n",
       "      <th>width</th>\n",
       "      <th>height</th>\n",
       "      <th>color_score</th>\n",
       "    </tr>\n",
       "  </thead>\n",
       "  <tbody>\n",
       "    <tr>\n",
       "      <td>0</td>\n",
       "      <td>1</td>\n",
       "      <td>apple</td>\n",
       "      <td>granny_smith</td>\n",
       "      <td>192</td>\n",
       "      <td>8.4</td>\n",
       "      <td>7.3</td>\n",
       "      <td>0.55</td>\n",
       "    </tr>\n",
       "    <tr>\n",
       "      <td>1</td>\n",
       "      <td>1</td>\n",
       "      <td>apple</td>\n",
       "      <td>granny_smith</td>\n",
       "      <td>180</td>\n",
       "      <td>8.0</td>\n",
       "      <td>6.8</td>\n",
       "      <td>0.59</td>\n",
       "    </tr>\n",
       "    <tr>\n",
       "      <td>2</td>\n",
       "      <td>1</td>\n",
       "      <td>apple</td>\n",
       "      <td>granny_smith</td>\n",
       "      <td>176</td>\n",
       "      <td>7.4</td>\n",
       "      <td>7.2</td>\n",
       "      <td>0.60</td>\n",
       "    </tr>\n",
       "    <tr>\n",
       "      <td>3</td>\n",
       "      <td>2</td>\n",
       "      <td>mandarin</td>\n",
       "      <td>mandarin</td>\n",
       "      <td>86</td>\n",
       "      <td>6.2</td>\n",
       "      <td>4.7</td>\n",
       "      <td>0.80</td>\n",
       "    </tr>\n",
       "    <tr>\n",
       "      <td>4</td>\n",
       "      <td>2</td>\n",
       "      <td>mandarin</td>\n",
       "      <td>mandarin</td>\n",
       "      <td>84</td>\n",
       "      <td>6.0</td>\n",
       "      <td>4.6</td>\n",
       "      <td>0.79</td>\n",
       "    </tr>\n",
       "  </tbody>\n",
       "</table>\n",
       "</div>"
      ],
      "text/plain": [
       "   fruit_label fruit_name fruit_subtype  mass  width  height  color_score\n",
       "0            1      apple  granny_smith   192    8.4     7.3         0.55\n",
       "1            1      apple  granny_smith   180    8.0     6.8         0.59\n",
       "2            1      apple  granny_smith   176    7.4     7.2         0.60\n",
       "3            2   mandarin      mandarin    86    6.2     4.7         0.80\n",
       "4            2   mandarin      mandarin    84    6.0     4.6         0.79"
      ]
     },
     "execution_count": 2,
     "metadata": {},
     "output_type": "execute_result"
    }
   ],
   "source": [
    "fruit = pd.read_table(\"/Users/xanderito-low/Desktop/Sem 2/Machine learning/fruit_data_with_colors.txt\")\n",
    "fruit.head()"
   ]
  },
  {
   "cell_type": "code",
   "execution_count": 3,
   "metadata": {},
   "outputs": [
    {
     "data": {
      "image/png": "[encoded data removed]",
      "text/plain": [
       "<Figure size 432x288 with 1 Axes>"
      ]
     },
     "metadata": {
      "needs_background": "light"
     },
     "output_type": "display_data"
    }
   ],
   "source": [
    "sns.countplot(fruit['fruit_name'],label=\"Count\")\n",
    "plt.show()"
   ]
  },
  {
   "cell_type": "code",
   "execution_count": 4,
   "metadata": {},
   "outputs": [
    {
     "data": {
      "text/html": [
       "<div>\n",
       "<style scoped>\n",
       "    .dataframe tbody tr th:only-of-type {\n",
       "        vertical-align: middle;\n",
       "    }\n",
       "\n",
       "    .dataframe tbody tr th {\n",
       "        vertical-align: top;\n",
       "    }\n",
       "\n",
       "    .dataframe thead th {\n",
       "        text-align: right;\n",
       "    }\n",
       "</style>\n",
       "<table border=\"1\" class=\"dataframe\">\n",
       "  <thead>\n",
       "    <tr style=\"text-align: right;\">\n",
       "      <th></th>\n",
       "      <th>fruit_name</th>\n",
       "      <th>mass</th>\n",
       "      <th>width</th>\n",
       "      <th>height</th>\n",
       "      <th>color_score</th>\n",
       "    </tr>\n",
       "  </thead>\n",
       "  <tbody>\n",
       "    <tr>\n",
       "      <td>0</td>\n",
       "      <td>apple</td>\n",
       "      <td>192</td>\n",
       "      <td>8.4</td>\n",
       "      <td>7.3</td>\n",
       "      <td>0.55</td>\n",
       "    </tr>\n",
       "    <tr>\n",
       "      <td>1</td>\n",
       "      <td>apple</td>\n",
       "      <td>180</td>\n",
       "      <td>8.0</td>\n",
       "      <td>6.8</td>\n",
       "      <td>0.59</td>\n",
       "    </tr>\n",
       "    <tr>\n",
       "      <td>2</td>\n",
       "      <td>apple</td>\n",
       "      <td>176</td>\n",
       "      <td>7.4</td>\n",
       "      <td>7.2</td>\n",
       "      <td>0.60</td>\n",
       "    </tr>\n",
       "    <tr>\n",
       "      <td>3</td>\n",
       "      <td>mandarin</td>\n",
       "      <td>86</td>\n",
       "      <td>6.2</td>\n",
       "      <td>4.7</td>\n",
       "      <td>0.80</td>\n",
       "    </tr>\n",
       "    <tr>\n",
       "      <td>4</td>\n",
       "      <td>mandarin</td>\n",
       "      <td>84</td>\n",
       "      <td>6.0</td>\n",
       "      <td>4.6</td>\n",
       "      <td>0.79</td>\n",
       "    </tr>\n",
       "  </tbody>\n",
       "</table>\n",
       "</div>"
      ],
      "text/plain": [
       "  fruit_name  mass  width  height  color_score\n",
       "0      apple   192    8.4     7.3         0.55\n",
       "1      apple   180    8.0     6.8         0.59\n",
       "2      apple   176    7.4     7.2         0.60\n",
       "3   mandarin    86    6.2     4.7         0.80\n",
       "4   mandarin    84    6.0     4.6         0.79"
      ]
     },
     "execution_count": 4,
     "metadata": {},
     "output_type": "execute_result"
    }
   ],
   "source": [
    "fruit_vector=fruit[[\"fruit_name\",\"mass\",\"width\",\"height\",\"color_score\"]]\n",
    "fruit_vector.head()"
   ]
  },
  {
   "cell_type": "code",
   "execution_count": 5,
   "metadata": {},
   "outputs": [
    {
     "name": "stdout",
     "output_type": "stream",
     "text": [
      "[[192.     8.4    7.3    0.55]\n",
      " [180.     8.     6.8    0.59]\n",
      " [176.     7.4    7.2    0.6 ]\n",
      " [ 86.     6.2    4.7    0.8 ]\n",
      " [ 84.     6.     4.6    0.79]\n",
      " [ 80.     5.8    4.3    0.77]]\n",
      "['apple' 'apple' 'apple' 'mandarin' 'mandarin' 'mandarin']\n"
     ]
    }
   ],
   "source": [
    "#Side note for me in the future: iloc just gets specific vals in list using slice methods first rows then cols\n",
    "X = fruit_vector.iloc[:,1:].values\n",
    "y = fruit_vector.iloc[:,0].values\n",
    "print(X[0:6])\n",
    "print(y[0:6])"
   ]
  },
  {
   "cell_type": "code",
   "execution_count": 6,
   "metadata": {},
   "outputs": [
    {
     "name": "stdout",
     "output_type": "stream",
     "text": [
      "X_train shape: (41, 4)\n",
      "y_train shape: (41,)\n",
      "X_test shape: (18, 4)\n",
      "y_test shape: (18,)\n"
     ]
    }
   ],
   "source": [
    "X_train, X_test, y_train, y_test = train_test_split(X, y, test_size=0.3, random_state = 4321)\n",
    "print(\"X_train shape:\", X_train.shape) \n",
    "print(\"y_train shape:\", y_train.shape)\n",
    "print(\"X_test shape:\", X_test.shape)\n",
    "print(\"y_test shape:\", y_test.shape)"
   ]
  },
  {
   "cell_type": "code",
   "execution_count": 7,
   "metadata": {},
   "outputs": [],
   "source": [
    " scaler = StandardScaler()  \n",
    " scaler.fit(X_train)\n",
    " X_train = scaler.transform(X_train)  \n",
    " X_test = scaler.transform(X_test)"
   ]
  },
  {
   "cell_type": "code",
   "execution_count": 8,
   "metadata": {},
   "outputs": [
    {
     "name": "stdout",
     "output_type": "stream",
     "text": [
      "[[7 0 0 0]\n",
      " [0 2 0 0]\n",
      " [0 0 3 0]\n",
      " [0 0 0 6]]\n",
      "kNN %): 100.0\n",
      "\n",
      "[[7 0 0 0]\n",
      " [0 2 0 0]\n",
      " [0 0 3 0]\n",
      " [0 0 0 6]]\n",
      "kNN %): 100.0\n",
      "\n",
      "[[7 0 0 0]\n",
      " [0 2 0 0]\n",
      " [0 0 3 0]\n",
      " [0 0 0 6]]\n",
      "kNN %): 100.0\n",
      "\n",
      "[[7 0 0 0]\n",
      " [0 2 0 0]\n",
      " [0 0 3 0]\n",
      " [0 0 0 6]]\n",
      "kNN %): 100.0\n",
      "\n",
      "[[4 0 0 3]\n",
      " [0 2 0 0]\n",
      " [0 3 0 0]\n",
      " [0 0 0 6]]\n",
      "kNN %): 66.66666666666666\n",
      "\n",
      "[[4 0 0 3]\n",
      " [0 2 0 0]\n",
      " [0 3 0 0]\n",
      " [0 1 0 5]]\n",
      "kNN %): 61.111111111111114\n",
      "\n",
      "[[2 0 0 5]\n",
      " [0 2 0 0]\n",
      " [0 2 0 1]\n",
      " [0 0 0 6]]\n",
      "kNN %): 55.55555555555556\n",
      "\n",
      "[[2 0 0 5]\n",
      " [0 2 0 0]\n",
      " [0 2 0 1]\n",
      " [0 2 0 4]]\n",
      "kNN %): 44.44444444444444\n",
      "\n"
     ]
    }
   ],
   "source": [
    "for k in range(1,9):\n",
    " classifier = KNeighborsClassifier(n_neighbors=k)  \n",
    " classifier.fit(X_train, y_train)\n",
    " y_pred = classifier.predict(X_test)\n",
    " print(confusion_matrix(y_test, y_pred))\n",
    " print(\"kNN %):\", metrics.accuracy_score(y_test, y_pred)*100)\n",
    " print()"
   ]
  },
  {
   "cell_type": "code",
   "execution_count": 9,
   "metadata": {
    "scrolled": true
   },
   "outputs": [
    {
     "name": "stdout",
     "output_type": "stream",
     "text": [
      "[[7 0 0 0]\n",
      " [0 2 0 0]\n",
      " [0 0 3 0]\n",
      " [2 0 0 4]]\n",
      "Gauusian %): 88.88888888888889\n"
     ]
    }
   ],
   "source": [
    "classifier = GaussianNB()\n",
    "y_pred = classifier.fit(X_train, y_train).predict(X_test)\n",
    "print(confusion_matrix(y_test, y_pred))\n",
    "# print(classifier.predict_proba(X_test))\n",
    "print(\"Gauusian %):\", metrics.accuracy_score(y_test, y_pred)*100)"
   ]
  },
  {
   "cell_type": "code",
   "execution_count": 10,
   "metadata": {},
   "outputs": [],
   "source": [
    "# Split the dataset by class values, returns separated classes\n",
    "def separate_by_class(dataset,y):\n",
    "   separated = dict()\n",
    "   for i in range (len(dataset)):\n",
    "    vector = dataset[i]\n",
    "    classValue = y[i]\n",
    "    if classValue not in separated:\n",
    "        separated[classValue] = list()\n",
    "    separated[classValue].append(vector)\n",
    "   return separated    \n",
    "    "
   ]
  },
  {
   "cell_type": "code",
   "execution_count": 11,
   "metadata": {},
   "outputs": [
    {
     "name": "stdout",
     "output_type": "stream",
     "text": [
      "mandarin\n",
      "[-1.82753952 -1.56031839 -2.94486615  0.54956872]\n",
      "[-1.73671634 -1.42303716 -2.69471523  0.27478436]\n",
      "lemon\n",
      "[ 0.89715576  0.36161885  2.22491959 -0.68696091]\n",
      "[-1.01013093 -1.42303716 -0.27658964 -0.68696091]\n",
      "[ 0.80633259  0.36161885  1.55785046 -0.68696091]\n",
      "[-0.91930776 -1.42303716  0.47386313 -0.41217654]\n",
      "[-0.96471934 -1.28575593  0.22371221 -0.96174527]\n",
      "[ 1.26044847  0.36161885  1.97476867 -0.82435309]\n",
      "[-0.69224982 -1.42303716  0.30709585 -0.82435309]\n",
      "[-0.96471934 -1.56031839  0.14032857 -0.68696091]\n",
      "[-1.01013093 -1.01119346 -0.10982236 -0.68696091]\n",
      "[ 0.57927465  0.22433762  1.14093226 -0.68696091]\n",
      "[-0.19272235 -0.736631    0.55724677 -0.68696091]\n",
      "[ 0.760921    0.22433762  2.05815231 -0.96174527]\n",
      "[-0.64683823 -1.69759962  0.72401405 -0.54956872]\n",
      "[-1.01013093 -1.56031839  0.22371221 -0.54956872]\n",
      "orange\n",
      "[ 0.07974718  0.22433762 -0.69350784  0.41217654]\n",
      "[-0.46519188 -0.46206854 -0.6101242  -0.68696091]\n",
      "[-0.011076   -0.05022484 -0.35997328  0.54956872]\n",
      "[ 4.43925962  2.96996226  1.14093226 -0.27478436]\n",
      "[1.1242137  1.04802501 0.14032857 0.68696091]\n",
      "[-0.14731076  0.22433762 -0.52674056  0.68696091]\n",
      "[ 0.67009782  0.63618132  0.22371221 -0.41217654]\n",
      "[-0.05648759  0.22433762 -0.02643872  0.        ]\n",
      "[-0.14731076  0.08705639 -0.27658964  0.13739218]\n",
      "[-0.14731076  0.36161885 -0.44335692  0.27478436]\n",
      "[-0.3743687  -0.3247873  -0.35997328 -0.27478436]\n",
      "[0.98797894 0.63618132 1.14093226 0.        ]\n",
      "[-0.41978029  0.77346255 -0.02643872 -0.27478436]\n",
      "apple\n",
      "[0.21598194 0.77346255 0.05694493 1.51131399]\n",
      "[-0.011076    0.63618132 -0.27658964  1.23652963]\n",
      "[-0.10189917  0.49890009 -0.35997328  0.96174527]\n",
      "[-0.10189917  0.91074378 -0.6101242  -1.09913745]\n",
      "[ 0.12515877 -0.18750607 -0.44335692  2.1982749 ]\n",
      "[ 0.17057035  0.63618132 -0.193206   -0.54956872]\n",
      "[ 0.03433559  0.49890009 -0.52674056  1.09913745]\n",
      "[ 0.71550941  1.8717124  -0.44335692 -3.02262798]\n",
      "[-0.46519188  0.36161885 -0.6101242   1.37392181]\n",
      "[ 0.26139353  0.49890009 -0.69350784  1.64870617]\n",
      "[ 0.26139353  0.08705639 -0.193206    2.06088272]\n",
      "[ 0.03433559  0.63618132 -0.6101242   0.82435309]\n"
     ]
    }
   ],
   "source": [
    "separated = separate_by_class(X_train,y_train)\n",
    "for label in separated:\n",
    "    print(label)\n",
    "    for row in separated[label]:\n",
    "        print(row)"
   ]
  },
  {
   "cell_type": "code",
   "execution_count": 12,
   "metadata": {},
   "outputs": [],
   "source": [
    "#calculate the mean\n",
    "def mean (numbers):\n",
    "    return np.mean(numbers,axis = 0)"
   ]
  },
  {
   "cell_type": "code",
   "execution_count": 13,
   "metadata": {},
   "outputs": [],
   "source": [
    "#calculate the variance\n",
    "def calcVarience (numbers) :\n",
    "    return np.var(numbers,axis = 0)"
   ]
  },
  {
   "cell_type": "code",
   "execution_count": 14,
   "metadata": {},
   "outputs": [],
   "source": [
    "#we summarise the mean and variance for particular feature vectors\n",
    "def summarize(dataset):\n",
    "    summaries = [(mean(attribute), calcVarience(attribute),len(attribute)) for attribute in zip(*dataset)]\n",
    "    return summaries\n",
    "    "
   ]
  },
  {
   "cell_type": "code",
   "execution_count": 15,
   "metadata": {},
   "outputs": [],
   "source": [
    "# this function takes in the dataset splits it up and summarises the dataset using the above calls\n",
    "def summarizeByClass(dataset,y):\n",
    "    separated = separate_by_class(dataset,y)\n",
    "    summaries = {}\n",
    "    for classValue, instances in separated.items():\n",
    "        summaries[classValue] = summarize(instances)\n",
    "    return summaries"
   ]
  },
  {
   "cell_type": "code",
   "execution_count": 16,
   "metadata": {},
   "outputs": [],
   "source": [
    "#this is calculating the probability of a given value given mean and variance of a feature vector\n",
    "def calculateProbability(x, mean,variance):\n",
    "    exponent = math.exp(-(math.pow(x-mean,2)/(2*variance)))\n",
    "    result = (1/(math.sqrt(2*math.pi*variance)))*exponent\n",
    "    return result"
   ]
  },
  {
   "cell_type": "code",
   "execution_count": 17,
   "metadata": {},
   "outputs": [],
   "source": [
    "#  this calculates the class probabilities given the feature vector of the test subject\n",
    "def calculateClassProbabilities(summaries, inputVector):\n",
    "    total_rows = sum ([summaries[label][0][2] for label in summaries])\n",
    "    probabilities = {}\n",
    "    for classValue, classSummaries in summaries.items():\n",
    "        probabilities[classValue] = summaries[classValue][0][2]/float(total_rows)\n",
    "        for i in range(len(classSummaries)):\n",
    "            mean,variance,count = classSummaries[i] \n",
    "            x = inputVector[i]\n",
    "            probabilities[classValue] *= calculateProbability(x,mean,variance)\n",
    "    return probabilities "
   ]
  },
  {
   "cell_type": "code",
   "execution_count": 18,
   "metadata": {},
   "outputs": [],
   "source": [
    "# predicts what class an input vector is in\n",
    "def predict(summaries, inputVector):\n",
    "    probabilities = calculateClassProbabilities(summaries, inputVector)\n",
    "    bestLabel, bestProb = None, -1\n",
    "    for classValue, probability in probabilities.items():\n",
    "        if bestLabel is None or probability>bestProb:\n",
    "            bestProb = probability\n",
    "            bestLabel = classValue\n",
    "    return bestLabel"
   ]
  },
  {
   "cell_type": "code",
   "execution_count": 19,
   "metadata": {},
   "outputs": [],
   "source": [
    "#this classifies a class for a large set of data\n",
    "def getPredictions(summaries, testSet):\n",
    "    predictions = []\n",
    "    for i in range(len(testSet)):\n",
    "        result = predict(summaries, testSet[i])\n",
    "        predictions.append(result)\n",
    "    return predictions"
   ]
  },
  {
   "cell_type": "code",
   "execution_count": 20,
   "metadata": {},
   "outputs": [
    {
     "name": "stdout",
     "output_type": "stream",
     "text": [
      "[[7 0 0 0]\n",
      " [0 2 0 0]\n",
      " [0 0 3 0]\n",
      " [2 0 0 4]]\n",
      "Gaussean %): 88.88888888888889\n"
     ]
    }
   ],
   "source": [
    "summaries = summarizeByClass(X_train,y_train)\n",
    "\n",
    "y_pred = getPredictions(summaries,X_test)\n",
    "print(confusion_matrix(y_test,y_pred))\n",
    "print(\"Gaussean %):\", metrics.accuracy_score(y_test,y_pred)*100)\n",
    "\n"
   ]
  },
  {
   "cell_type": "code",
   "execution_count": null,
   "metadata": {},
   "outputs": [],
   "source": []
  }
 ],
 "metadata": {
  "kernelspec": {
   "display_name": "Python 3",
   "language": "python",
   "name": "python3"
  },
  "language_info": {
   "codemirror_mode": {
    "name": "ipython",
    "version": 3
   },
   "file_extension": ".py",
   "mimetype": "text/x-python",
   "name": "python",
   "nbconvert_exporter": "python",
   "pygments_lexer": "ipython3",
   "version": "3.7.4"
  }
 },
 "nbformat": 4,
 "nbformat_minor": 2
}
