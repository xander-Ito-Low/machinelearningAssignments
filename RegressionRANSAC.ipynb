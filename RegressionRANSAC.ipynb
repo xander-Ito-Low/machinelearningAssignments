{
 "cells": [
  {
   "cell_type": "markdown",
   "metadata": {},
   "source": [
    "## Linear Regression and RANSAC"
   ]
  },
  {
   "cell_type": "raw",
   "metadata": {},
   "source": [
    "This example is adapted from: https://scikit-learn.org/stable/auto_examples/linear_model/plot_ransac.html"
   ]
  },
  {
   "cell_type": "code",
   "execution_count": 1,
   "metadata": {},
   "outputs": [],
   "source": [
    "# Load the modules we need\n",
    "import numpy as np\n",
    "from matplotlib import pyplot as plt\n",
    "import math\n",
    "from sklearn import linear_model, datasets"
   ]
  },
  {
   "cell_type": "code",
   "execution_count": 2,
   "metadata": {},
   "outputs": [],
   "source": [
    "#  Create some intial data\n",
    "n_samples = 1000\n",
    "\n",
    "X, y = datasets.make_regression(n_samples=n_samples, n_features=1,\n",
    "                                      n_informative=1, noise=10,\n",
    "                                      random_state=0)"
   ]
  },
  {
   "cell_type": "code",
   "execution_count": 3,
   "metadata": {},
   "outputs": [],
   "source": [
    "# Add some outlier data\n",
    "np.random.seed(0)\n",
    "n_outliers = 50\n",
    "X[:n_outliers] = 3 + 0.5 * np.random.normal(size=(n_outliers, 1))\n",
    "y[:n_outliers] = -3 + 10 * np.random.normal(size=n_outliers)"
   ]
  },
  {
   "cell_type": "code",
   "execution_count": 4,
   "metadata": {},
   "outputs": [
    {
     "name": "stdout",
     "output_type": "stream",
     "text": [
      "(1000,)\n",
      "(1000, 1)\n"
     ]
    }
   ],
   "source": [
    "# Create some test positions for for the lines we will draw\n",
    "line_X = np.arange(X.min(), X.max())[:, np.newaxis]\n",
    "print(y.shape)\n",
    "print(X.shape)"
   ]
  },
  {
   "cell_type": "code",
   "execution_count": 5,
   "metadata": {},
   "outputs": [
    {
     "name": "stdout",
     "output_type": "stream",
     "text": [
      "[-174.38323639 -120.21087252  -66.03850865  -11.86614478   42.30621909\n",
      "   96.47858295  150.65094682  204.82331069]\n"
     ]
    }
   ],
   "source": [
    "#This is the cell you need to replace to complete Task 2.\n",
    "#Fit line using all data.\n",
    "lr = linear_model.LinearRegression()\n",
    "lr.fit(X, y)\n",
    "line_y = lr.predict(line_X)\n",
    "print(line_y)"
   ]
  },
  {
   "cell_type": "code",
   "execution_count": 6,
   "metadata": {},
   "outputs": [],
   "source": [
    "class LinearRegressionIsGivingMeDepression():\n",
    "    def fit(self,X,y):\n",
    "        \n",
    "        #reshape y:\n",
    "        reshaped = y.reshape((-1,1))\n",
    "        \n",
    "        #create the elements that solve y = mx+c using the closed method\n",
    "        \n",
    "        alpha = np.sum(np.multiply(X,reshaped))\n",
    "        beta = np.sum(np.square(X))\n",
    "        rho = np.sum(X)\n",
    "        delta = np.sum(reshaped)\n",
    "        N = len(reshaped)\n",
    "        \n",
    "        #put the elements into the matrix and compute m and c\n",
    "        \n",
    "        firstMatrix = np.array([[beta,rho],[rho,N]])\n",
    "        secondMatrix = np.array([[alpha],[delta]])\n",
    "        \n",
    "        unknowns = np.dot(np.linalg.inv(firstMatrix),secondMatrix)\n",
    "        \n",
    "        self.m = unknowns.item(0)\n",
    "        self.c = unknowns.item(1)\n",
    "        \n",
    "    def predict(self,X):\n",
    "        reshaped = X.reshape((-1))\n",
    "        data = [(self.m*dataPoint+self.c) for dataPoint in reshaped]\n",
    "        return data"
   ]
  },
  {
   "cell_type": "code",
   "execution_count": 7,
   "metadata": {},
   "outputs": [
    {
     "name": "stdout",
     "output_type": "stream",
     "text": [
      "[-174.38323639022238, -120.2108725212071, -66.03850865219182, -11.866144783176553, 42.30621908583872, 96.47858295485399, 150.65094682386925, 204.82331069288452]\n"
     ]
    }
   ],
   "source": [
    "# My code\n",
    "# Fit line using all data.\n",
    "lr = LinearRegressionIsGivingMeDepression()\n",
    "lr.fit(X, y)\n",
    "line_y = lr.predict(line_X)\n",
    "print(line_y)"
   ]
  },
  {
   "cell_type": "code",
   "execution_count": 8,
   "metadata": {},
   "outputs": [
    {
     "name": "stdout",
     "output_type": "stream",
     "text": [
      "[-249.81104528 -167.72571369  -85.64038211   -3.55505052   78.53028107\n",
      "  160.61561265  242.70094424  324.78627583]\n"
     ]
    }
   ],
   "source": [
    "# This is the cell you need to replace to complete Task 3.\n",
    "# Robustly fit linear model with RANSAC algorithm\n",
    "ransac = linear_model.RANSACRegressor()\n",
    "ransac.fit(X, y)\n",
    "\n",
    "# Predict data of estimated models\n",
    "line_y_ransac = ransac.predict(line_X)\n",
    "print(line_y_ransac)\n",
    "\n",
    "# Label the if source data is inlier or outlier\n",
    "inlier_mask = ransac.inlier_mask_\n",
    "outlier_mask = np.logical_not(inlier_mask)"
   ]
  },
  {
   "cell_type": "code",
   "execution_count": 9,
   "metadata": {
    "scrolled": false
   },
   "outputs": [
    {
     "data": {
      "image/png": "[encoded data removed]",
      "text/plain": [
       "<Figure size 432x288 with 1 Axes>"
      ]
     },
     "metadata": {
      "needs_background": "light"
     },
     "output_type": "display_data"
    }
   ],
   "source": [
    "lw = 2\n",
    "\n",
    "doing_linear = True\n",
    "doing_ransac = True\n",
    "\n",
    "if (doing_linear):\n",
    "    plt.plot(line_X, line_y, color='navy', linewidth=lw, label='Linear regressor')\n",
    "\n",
    "if (doing_ransac):\n",
    "    plt.scatter(X[inlier_mask], y[inlier_mask], color='yellowgreen', marker='.', label='Inliers')\n",
    "    plt.scatter(X[outlier_mask], y[outlier_mask], color='gold', marker='.', label='Outliers')\n",
    "    plt.plot(line_X, line_y_ransac, color='cornflowerblue', linewidth=lw, label='RANSAC regressor')\n",
    "else:\n",
    "    plt.scatter(X, y, color='yellowgreen', marker='.', label='Data')\n",
    "    \n",
    "plt.legend(loc='lower right')\n",
    "plt.xlabel(\"Input\")\n",
    "plt.ylabel(\"Response\")\n",
    "plt.show()"
   ]
  },
  {
   "cell_type": "code",
   "execution_count": 10,
   "metadata": {},
   "outputs": [],
   "source": [
    "#My code\n",
    "#Note for revision: this is the algorithm for RANSAC:\n",
    "# 1) Take in the arbitrary data\n",
    "# 2) have iterations as usual computed by the formula\n",
    "# 3) pick random points and compute inliers and outliers\n",
    "# 4) most importantly CAPITALISE on the inliers and use them for the random point generation\n",
    "# 5) At the very end compute the formula for the line as there will be no more changes between inliers and outliers\n",
    "\n",
    "from scipy import stats\n",
    "\n",
    "class RANSAC():\n",
    "    \n",
    "    \n",
    "    #The RANSAC algorithm code\n",
    "    def fit(self,X,y):\n",
    "        \n",
    "        #using the formula from the slides this should equate to 2\n",
    "        numberOfIterations = round(math.log(0.01)/math.log(1-((1-0.05)**2)))\n",
    "        bestModel = None\n",
    "        \n",
    "        #min inliers at the start\n",
    "        totalInliers = X.shape[1] + 1\n",
    "        \n",
    "        #inlier threshold\n",
    "        inlierThreshold = stats.median_absolute_deviation(y)\n",
    "        \n",
    "        for num in range (numberOfIterations):\n",
    "            \n",
    "            #initial check just in case could do better\n",
    "            if (not totalInliers == X.shape[1] + 1):\n",
    "                sample = np.random.choice(len(self.inliers),2, replace=False)\n",
    "            else:\n",
    "                sample = np.random.choice(len(y),2, replace=False)\n",
    "                num = 0\n",
    "\n",
    "            #generation of a line using random points\n",
    "            model_params = self.generateModel(X[sample],y[sample])\n",
    "            \n",
    "            #time to evaluate the line:\n",
    "            model_performance = self.evaluateModel(X,y,model_params,inlierThreshold)\n",
    "            \n",
    "            if(model_performance>totalInliers):\n",
    "                bestModel = model_params\n",
    "                totalInliers = model_performance\n",
    "                \n",
    "            \n",
    "            if(model_performance>totalInliers):\n",
    "                while(model_performance > totalInliers):\n",
    "                    #choosing 2 points randomly from the array\n",
    "                    sample = np.random.choice(len(self.inliers),2, replace=False)\n",
    "            \n",
    "                    #generation of a line using random points\n",
    "                    model_params = self.generateModel(X[sample],y[sample])\n",
    "            \n",
    "                    #time to evaluate the line:\n",
    "                    model_performance = self.evaluateModel(X,y,model_params,inlierThreshold)\n",
    "                    print(model_performance)\n",
    "            \n",
    "                    if model_performance < totalInliers:\n",
    "                        break\n",
    "        \n",
    "                    if model_performance > totalInliers:\n",
    "                        bestModel = model_params\n",
    "                        totalInliers = model_performance\n",
    "                        \n",
    "        #compute lines without outliers at the very end when separated\n",
    "        totInliersX = np.array([X[i] for i in self.inliers])\n",
    "        totInliersy = np.array([y[i] for i in self.inliers])\n",
    "        fin = self.generateModel(totInliersX ,totInliersy)\n",
    "        \n",
    "        self.model_params = fin\n",
    "            \n",
    "    \n",
    "    #how to compute error between points\n",
    "    def evaluateModel(self,X,y,model_params,inlierThreshold):\n",
    "        self.inliers = list()\n",
    "        self.outliers = list()\n",
    "        count = 0\n",
    "        \n",
    "        reshaped = X.reshape((-1))\n",
    "        m = model_params.item(0)\n",
    "        c = model_params.item(1)\n",
    "        data = [(m*dataPoint+c) for dataPoint in reshaped]\n",
    "        \n",
    "        #now need to do a distance check for the points to the line:\n",
    "        for i in range(len(data)):\n",
    "            a = np.array(data[i])\n",
    "            b = np.array(y[i])\n",
    "            dist = np.linalg.norm(a-b)\n",
    "            \n",
    "            if dist<inlierThreshold:\n",
    "                self.inliers.append(i)\n",
    "                count = count+1\n",
    "            else:\n",
    "                self.outliers.append(i)\n",
    "        return count\n",
    "\n",
    "    \n",
    "    #function that generates an m and a c for the model no errors here\n",
    "    def generateModel (self,X,y):\n",
    "        \n",
    "        #reshape y:\n",
    "        reshaped = y.reshape((-1,1))\n",
    "        #create the elements that solve y = mx+c using the closed method\n",
    "        \n",
    "        alpha = np.sum(np.multiply(X,reshaped))\n",
    "        beta = np.sum(np.square(X))\n",
    "        rho = np.sum(X)\n",
    "        delta = np.sum(reshaped)\n",
    "        N = len(reshaped)\n",
    "        \n",
    "        #put the elements into the matrix and compute m and c\n",
    "        \n",
    "        firstMatrix = np.array([[beta,rho],[rho,N]])\n",
    "        secondMatrix = np.array([[alpha],[delta]])\n",
    "        \n",
    "        unknowns = np.dot(np.linalg.inv(firstMatrix),secondMatrix)\n",
    "        return unknowns\n",
    "        \n",
    "   \n",
    "    #take in the X values and determine y-values for them in the model no errors here \n",
    "    def predict(self,X):\n",
    "        reshaped = X.reshape((-1))\n",
    "        m = self.model_params.item(0)\n",
    "        c = self.model_params.item(1)\n",
    "        data = [(m*dataPoint+c) for dataPoint in reshaped]\n",
    "        return data"
   ]
  },
  {
   "cell_type": "code",
   "execution_count": 11,
   "metadata": {},
   "outputs": [
    {
     "name": "stdout",
     "output_type": "stream",
     "text": [
      "[-249.81104528159992, -167.7257136943336, -85.6403821070673, -3.555050519800987, 78.53028106746532, 160.61561265473165, 242.70094424199795, 324.78627582926424]\n"
     ]
    }
   ],
   "source": [
    "# Task 3\n",
    "# Robustly fit linear model with RANSAC algorithm\n",
    "ransac = RANSAC()\n",
    "ransac.fit(X,y)\n",
    "\n",
    "# Predict data of estimated models\n",
    "line_y_ransac = ransac.predict(line_X)\n",
    "print(line_y_ransac)\n",
    "\n",
    "# Label the if source data is inlier or outlier\n",
    "inlier_mask = ransac.inliers\n",
    "outlier_mask = ransac.outliers"
   ]
  },
  {
   "cell_type": "code",
   "execution_count": 12,
   "metadata": {},
   "outputs": [
    {
     "data": {
      "image/png": "[encoded data removed]",
      "text/plain": [
       "<Figure size 432x288 with 1 Axes>"
      ]
     },
     "metadata": {
      "needs_background": "light"
     },
     "output_type": "display_data"
    }
   ],
   "source": [
    "lw = 2\n",
    "\n",
    "doing_linear = True\n",
    "doing_ransac = True\n",
    "\n",
    "if (doing_linear):\n",
    "    plt.plot(line_X, line_y, color='navy', linewidth=lw, label='Linear regressor')\n",
    "\n",
    "if (doing_ransac):\n",
    "    plt.scatter(X[inlier_mask], y[inlier_mask], color='yellowgreen', marker='.', label='Inliers')\n",
    "    plt.scatter(X[outlier_mask], y[outlier_mask], color='gold', marker='.', label='Outliers')\n",
    "    plt.plot(line_X, line_y_ransac, color='cornflowerblue', linewidth=lw, label='RANSAC regressor')\n",
    "else:\n",
    "    plt.scatter(X, y, color='yellowgreen', marker='.', label='Data')\n",
    "    \n",
    "plt.legend(loc='lower right')\n",
    "plt.xlabel(\"Input\")\n",
    "plt.ylabel(\"Response\")\n",
    "plt.show()"
   ]
  },
  {
   "cell_type": "code",
   "execution_count": null,
   "metadata": {},
   "outputs": [],
   "source": []
  }
 ],
 "metadata": {
  "kernelspec": {
   "display_name": "Python 3",
   "language": "python",
   "name": "python3"
  },
  "language_info": {
   "codemirror_mode": {
    "name": "ipython",
    "version": 3
   },
   "file_extension": ".py",
   "mimetype": "text/x-python",
   "name": "python",
   "nbconvert_exporter": "python",
   "pygments_lexer": "ipython3",
   "version": "3.7.4"
  }
 },
 "nbformat": 4,
 "nbformat_minor": 2
}
